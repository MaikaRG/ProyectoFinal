{
 "cells": [
  {
   "cell_type": "code",
   "execution_count": 47,
   "metadata": {},
   "outputs": [],
   "source": [
    "from keras.preprocessing.image import ImageDataGenerator, array_to_img, img_to_array, load_img\n",
    "from skimage.color import rgb2lab, lab2rgb, rgb2gray, gray2rgb\n",
    "from skimage.transform import resize\n",
    "import CargarModelo\n",
    "import numpy as np\n",
    "from keras.applications.inception_resnet_v2 import preprocess_input\n",
    "from keras.applications.inception_resnet_v2 import InceptionResNetV2"
   ]
  },
  {
   "cell_type": "code",
   "execution_count": null,
   "metadata": {},
   "outputs": [],
   "source": [
    "inception = InceptionResNetV2(weights='imagenet', include_top=True)\n",
    "inception.graph = tf.get_default_graph()\n",
    "def resizeImages():\n",
    "    color_me = []\n",
    "    for filename in os.listdir('./input/'):\n",
    "        color_me.append(img_to_array(load_img('./input/'+filename)))\n",
    "    color_me = np.array(color_me, dtype=float)\n",
    "    gray_me = gray2rgb(rgb2gray(1.0/255*color_me))\n",
    "    color_me_embed = create_inception_embedding(gray_me)\n",
    "    color_me = rgb2lab(1.0/255*color_me)[:,:,:,0]\n",
    "    color_me = color_me.reshape(color_me.shape+(1,))\n",
    "    return color_me, color_me_embed\n",
    "def create_inception_embedding(grayscaled_rgb):\n",
    "    grayscaled_rgb_resized = []\n",
    "    for i in grayscaled_rgb:\n",
    "        i = resize(i, (299, 299, 3), mode='constant')\n",
    "        grayscaled_rgb_resized.append(i)\n",
    "    grayscaled_rgb_resized = np.array(grayscaled_rgb_resized)\n",
    "    grayscaled_rgb_resized = preprocess_input(grayscaled_rgb_resized)\n",
    "    with inception.graph.as_default():\n",
    "        embed = inception.predict(grayscaled_rgb_resized)\n",
    "    return embed\n",
    "\n",
    "def predictNewImage(loaded_model,path):\n",
    "    im = resizeImages(path)\n",
    "    output=loaded_model.predict(im)\n",
    "    output = output*128\n",
    "    return output\n",
    "\n",
    "def saveImagen():\n",
    "    output = predictNewImage(loaded_model,path)\n",
    "    cur = np.zeros((256, 256, 3))\n",
    "    cur[:,:,0] = color_me[0][:,:,0]\n",
    "    cur[:,:,1:] = output[0]\n",
    "    imsave('./output/img.png')\n",
    "resizeImages()"
   ]
  },
  {
   "cell_type": "code",
   "execution_count": 14,
   "metadata": {},
   "outputs": [
    {
     "name": "stdout",
     "output_type": "stream",
     "text": [
      "/home/maika/Documentos/ProyectoFinal\n",
      "['Untitled.ipynb', 'modelMasEntrenao.h5', 'model.h5', '.git', '.ipynb_checkpoints', 'output', 'modelMasEntrenao.json', 'meterFotoSacarFoto.py', 'CargarModelo.py', 'input', '__pycache__']\n"
     ]
    }
   ],
   "source": [
    "import os\n",
    "\n",
    "print(os.getcwd())\n",
    "print(os.listdir())"
   ]
  }
 ],
 "metadata": {
  "kernelspec": {
   "display_name": "Python 3",
   "language": "python",
   "name": "python3"
  },
  "language_info": {
   "codemirror_mode": {
    "name": "ipython",
    "version": 3
   },
   "file_extension": ".py",
   "mimetype": "text/x-python",
   "name": "python",
   "nbconvert_exporter": "python",
   "pygments_lexer": "ipython3",
   "version": "3.6.9"
  }
 },
 "nbformat": 4,
 "nbformat_minor": 2
}
